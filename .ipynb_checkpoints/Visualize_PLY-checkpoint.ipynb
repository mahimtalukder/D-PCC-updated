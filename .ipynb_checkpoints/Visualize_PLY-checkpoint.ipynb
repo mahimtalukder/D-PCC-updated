{
 "cells": [
  {
   "cell_type": "code",
   "execution_count": null,
   "id": "1c16807b-544d-48c3-9920-493bb2e76370",
   "metadata": {},
   "outputs": [],
   "source": []
  }
 ],
 "metadata": {
  "kernelspec": {
   "display_name": "D-PCC",
   "language": "python",
   "name": "d-pcc"
  },
  "language_info": {
   "codemirror_mode": {
    "name": "ipython",
    "version": 3
   },
   "file_extension": ".py",
   "mimetype": "text/x-python",
   "name": "python",
   "nbconvert_exporter": "python",
   "pygments_lexer": "ipython3",
   "version": "3.7.16"
  }
 },
 "nbformat": 4,
 "nbformat_minor": 5
}
