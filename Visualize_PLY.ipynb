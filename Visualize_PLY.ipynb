{
 "cells": [
  {
   "cell_type": "code",
   "execution_count": 20,
   "id": "1c16807b-544d-48c3-9920-493bb2e76370",
   "metadata": {
    "tags": []
   },
   "outputs": [],
   "source": [
    "import open3d as o3d\n",
    "import os"
   ]
  },
  {
   "cell_type": "code",
   "execution_count": 21,
   "id": "a66c5398-3840-497d-9cda-912d5748bd55",
   "metadata": {
    "tags": []
   },
   "outputs": [],
   "source": [
    "def visualize_ply(ply_path):\n",
    "    # Load the PLY data\n",
    "    pcd = o3d.io.read_point_cloud(ply_path)\n",
    "    \n",
    "    # Check the number of points\n",
    "    if len(pcd.points) == 0:\n",
    "        print(\"The point cloud is empty!\")\n",
    "        return\n",
    "    \n",
    "    # Visualize the point cloud\n",
    "    o3d.visualization.draw_geometries([pcd])\n"
   ]
  },
  {
   "cell_type": "code",
   "execution_count": 22,
   "id": "7e0a05bc-373b-4ece-bb53-f729385656a2",
   "metadata": {
    "tags": []
   },
   "outputs": [],
   "source": [
    "def list_directory_contents(directory_path):\n",
    "    return os.listdir(directory_path)"
   ]
  },
  {
   "cell_type": "code",
   "execution_count": 23,
   "id": "f4fd72cb-c9d6-4cc3-a9c5-b57ea85d2fe9",
   "metadata": {
    "tags": []
   },
   "outputs": [],
   "source": [
    "def file_exists(filepath):\n",
    "    return os.path.isfile(filepath)"
   ]
  },
  {
   "cell_type": "code",
   "execution_count": 32,
   "id": "3a9464ea-67e9-4ddf-be53-a2af35ec46c1",
   "metadata": {},
   "outputs": [],
   "source": [
    "def get_file_size(file_path):\n",
    "    return os.path.getsize(file_path)"
   ]
  },
  {
   "cell_type": "code",
   "execution_count": 66,
   "id": "c238be99-c196-4836-85bf-56f32be74097",
   "metadata": {
    "tags": []
   },
   "outputs": [],
   "source": [
    "orginal_ply_file_path = \"./data/shapenet/pcd/3b529633bdd49dc1e5dbe91fa3801c4c.ply\"\n",
    "pred_ply_file_path = \"./output/output/pcd/merge/gt/0.ply\""
   ]
  },
  {
   "cell_type": "markdown",
   "id": "af63abfe-74cb-4571-a150-75708da667ea",
   "metadata": {},
   "source": [
    "<h3> Orginal Ply File size and visualize </h3>"
   ]
  },
  {
   "cell_type": "code",
   "execution_count": 67,
   "id": "0c41fd74-0468-42b2-81c1-398396863ab1",
   "metadata": {
    "tags": []
   },
   "outputs": [
    {
     "name": "stdout",
     "output_type": "stream",
     "text": [
      "Size of ./output/output/pcd/patch/gt/1.ply: 22.99 MB\n"
     ]
    }
   ],
   "source": [
    "size_in_bytes = get_file_size(orginal_ply_file_path)\n",
    "size_in_megabytes = size_in_bytes / (1024 * 1024)  # Convert bytes to MB\n",
    "print(f\"Size of {ply_file_path}: {size_in_megabytes:.2f} MB\")"
   ]
  },
  {
   "cell_type": "code",
   "execution_count": 68,
   "id": "5ea3226d-86c8-4f80-b01a-be8fcfe6a14d",
   "metadata": {
    "tags": []
   },
   "outputs": [],
   "source": [
    "visualize_ply(orginal_ply_file_path)"
   ]
  },
  {
   "cell_type": "markdown",
   "id": "d46270ba-feb2-4224-8c9f-04120153b81c",
   "metadata": {},
   "source": [
    "<h3> Predicted Ply File Size and Visualize </h3>"
   ]
  },
  {
   "cell_type": "code",
   "execution_count": 69,
   "id": "ec3edc2e-e45c-4b3b-b028-34a64c65a2d8",
   "metadata": {
    "tags": []
   },
   "outputs": [
    {
     "name": "stdout",
     "output_type": "stream",
     "text": [
      "Size of ./output/output/pcd/patch/gt/1.ply: 8.13 MB\n"
     ]
    }
   ],
   "source": [
    "size_in_bytes = get_file_size(pred_ply_file_path)\n",
    "size_in_megabytes = size_in_bytes / (1024 * 1024)  # Convert bytes to MB\n",
    "print(f\"Size of {ply_file_path}: {size_in_megabytes:.2f} MB\")"
   ]
  },
  {
   "cell_type": "code",
   "execution_count": 70,
   "id": "e1c5b1bf-fd37-4229-821b-729d01613b3e",
   "metadata": {},
   "outputs": [],
   "source": [
    "visualize_ply(pred_ply_file_path)"
   ]
  },
  {
   "cell_type": "code",
   "execution_count": null,
   "id": "2f7981f9-5827-4e58-9fea-f86c3995e72f",
   "metadata": {},
   "outputs": [],
   "source": []
  }
 ],
 "metadata": {
  "kernelspec": {
   "display_name": "D-PCC",
   "language": "python",
   "name": "d-pcc"
  },
  "language_info": {
   "codemirror_mode": {
    "name": "ipython",
    "version": 3
   },
   "file_extension": ".py",
   "mimetype": "text/x-python",
   "name": "python",
   "nbconvert_exporter": "python",
   "pygments_lexer": "ipython3",
   "version": "3.7.16"
  }
 },
 "nbformat": 4,
 "nbformat_minor": 5
}
